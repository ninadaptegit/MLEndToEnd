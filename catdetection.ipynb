{
  "nbformat": 4,
  "nbformat_minor": 0,
  "metadata": {
    "colab": {
      "provenance": [],
      "gpuType": "T4",
      "authorship_tag": "ABX9TyPvPWGvzcnqQA9yHGzOsmC7",
      "include_colab_link": true
    },
    "kernelspec": {
      "name": "python3",
      "display_name": "Python 3"
    },
    "language_info": {
      "name": "python"
    },
    "accelerator": "GPU"
  },
  "cells": [
    {
      "cell_type": "markdown",
      "metadata": {
        "id": "view-in-github",
        "colab_type": "text"
      },
      "source": [
        "<a href=\"https://colab.research.google.com/github/ninadaptegit/MLEndToEnd/blob/main/catdetection.ipynb\" target=\"_parent\"><img src=\"https://colab.research.google.com/assets/colab-badge.svg\" alt=\"Open In Colab\"/></a>"
      ]
    },
    {
      "cell_type": "code",
      "execution_count": 2,
      "metadata": {
        "id": "eDgpmg3I0syU"
      },
      "outputs": [],
      "source": [
        "import kagglehub\n",
        "import pandas as pd\n",
        "import torch\n",
        "from torch import nn\n",
        "from torch.utils.data import DataLoader\n",
        "from torchvision import datasets\n",
        "from torchvision.transforms import v2\n",
        "from pathlib import Path\n",
        "import xml.etree.ElementTree as ET\n",
        "from matplotlib import pyplot as plt\n",
        "import numpy as np\n",
        "import torchvision.transforms as T"
      ]
    },
    {
      "cell_type": "markdown",
      "source": [
        "# Get the data"
      ],
      "metadata": {
        "id": "avLP7_0L16J8"
      }
    },
    {
      "cell_type": "code",
      "source": [
        "path = kagglehub.dataset_download(\"andrewmvd/dog-and-cat-detection\")\n",
        "# path = \"/root/.cache/kagglehub/datasets/andrewmvd/dog-and-cat-detection/versions/1\"\n",
        "print(path)"
      ],
      "metadata": {
        "colab": {
          "base_uri": "https://localhost:8080/"
        },
        "id": "QL2n3hpz1cVC",
        "outputId": "c70f86c1-c1c4-4ad0-f0d3-a6ac38330351"
      },
      "execution_count": 3,
      "outputs": [
        {
          "output_type": "stream",
          "name": "stdout",
          "text": [
            "Downloading from https://www.kaggle.com/api/v1/datasets/download/andrewmvd/dog-and-cat-detection?dataset_version_number=1...\n"
          ]
        },
        {
          "output_type": "stream",
          "name": "stderr",
          "text": [
            "100%|██████████| 1.03G/1.03G [00:11<00:00, 94.2MB/s]"
          ]
        },
        {
          "output_type": "stream",
          "name": "stdout",
          "text": [
            "Extracting files...\n"
          ]
        },
        {
          "output_type": "stream",
          "name": "stderr",
          "text": [
            "\n"
          ]
        },
        {
          "output_type": "stream",
          "name": "stdout",
          "text": [
            "/root/.cache/kagglehub/datasets/andrewmvd/dog-and-cat-detection/versions/1\n"
          ]
        }
      ]
    },
    {
      "cell_type": "code",
      "source": [
        "directory_path = Path(path)\n",
        "ann_path = Path(directory_path / \"annotations\")\n",
        "img_path = Path(directory_path / \"images\")\n",
        "files = [f for f in ann_path.iterdir() if f.is_file()]\n"
      ],
      "metadata": {
        "id": "UPLJ2gjK1-K9"
      },
      "execution_count": 4,
      "outputs": []
    },
    {
      "cell_type": "markdown",
      "source": [
        "# Create a csv file with image name, class, x,y,width,height for easier loading"
      ],
      "metadata": {
        "id": "l9DuULFZ7SAJ"
      }
    },
    {
      "cell_type": "code",
      "source": [
        "from PIL import Image"
      ],
      "metadata": {
        "id": "VGL_Fd-f_b8J"
      },
      "execution_count": 5,
      "outputs": []
    },
    {
      "cell_type": "code",
      "source": [
        "\n",
        "df = pd.DataFrame(columns=[\"image_name\", \"x_mid\", \"y_mid\", \"width\", \"height\"])\n",
        "for file_name in files:\n",
        "  tree = ET.parse(ann_path / file_name)\n",
        "  root = tree.getroot()\n",
        "  obj = root.find('object')\n",
        "  class_name = obj.find('name').text\n",
        "  bndbox = obj.find('bndbox')\n",
        "  xmin = int(bndbox.find('xmin').text)\n",
        "  ymin = int(bndbox.find('ymin').text)\n",
        "  xmax = int(bndbox.find('xmax').text)\n",
        "  ymax = int(bndbox.find('ymax').text)\n",
        "\n",
        "  # Going to skip dog class to avoid memory problems\n",
        "  if class_name == \"dog\":\n",
        "    continue\n",
        "\n",
        "  x_center = ((xmin + xmax) / 2)\n",
        "  y_center = ((ymin + ymax) / 2)\n",
        "  box_width = (xmax - xmin)\n",
        "  box_height = (ymax - ymin)\n",
        "\n",
        "  df.loc[len(df)] = [file_name.stem+'.png', x_center,y_center,box_width,box_height ]\n"
      ],
      "metadata": {
        "id": "kkhWxFpg2RRs"
      },
      "execution_count": 6,
      "outputs": []
    },
    {
      "cell_type": "code",
      "source": [
        "df.to_csv(\"data.csv\", index=False)"
      ],
      "metadata": {
        "id": "Ey13DuZg4kHg"
      },
      "execution_count": 7,
      "outputs": []
    },
    {
      "cell_type": "code",
      "source": [
        "df = pd.read_csv('data.csv')"
      ],
      "metadata": {
        "id": "SbNN_wx6ZaHc"
      },
      "execution_count": 8,
      "outputs": []
    },
    {
      "cell_type": "markdown",
      "source": [
        "# Custom Dataset to load the images and preprocess targets in required yolov1 format"
      ],
      "metadata": {
        "id": "bs7sKKC9E2tz"
      }
    },
    {
      "cell_type": "code",
      "source": [
        "class CatDataset(torch.utils.data.Dataset):\n",
        "  def __init__(self, csv_file, root_dir, transform=None):\n",
        "\n",
        "        # The csv file with image name and info\n",
        "        self.data = pd.read_csv(csv_file)\n",
        "        self.root_dir = root_dir\n",
        "        # Transform to apply on train and test using albumentations though not using complex to avoid y_truth problems.\n",
        "        self.transform = transform\n",
        "        # 7 cells row and col.\n",
        "        self.grid=7\n",
        "  def __len__(self):\n",
        "        return len(self.data)\n",
        "\n",
        "  def __getitem__(self, idx):\n",
        "\n",
        "        img_name = self.data.iloc[idx, 0]\n",
        "        img_path = self.root_dir / img_name\n",
        "\n",
        "        # Convert to rgb format if greyscale images are present, (They are not)\n",
        "        image = Image.open(img_path).convert(\"RGB\")\n",
        "\n",
        "        # Create a empty torch array of zeros of size (7,7,6) for 6 classes per cell aks : (objectness , x center, y center , class probabilities)\n",
        "        target = torch.zeros(size=(self.grid,self.grid,6))\n",
        "        width = image.width\n",
        "        height = image.height\n",
        "\n",
        "        x_center = self.data.iloc[idx, 1]\n",
        "        y_center = self.data.iloc[idx, 2]\n",
        "        box_width = self.data.iloc[idx, 3]\n",
        "        box_height = self.data.iloc[idx, 4]\n",
        "\n",
        "        # Normalize the data wrt to the image width and height\n",
        "        x_center = x_center / width\n",
        "        y_center = y_center / height\n",
        "        box_width = box_width / width\n",
        "        box_height = box_height / height\n",
        "\n",
        "        bbox = [x_center, y_center, box_width, box_height]\n",
        "\n",
        "        # Convert to np array as its required for albumentations transformations.\n",
        "        image = np.array(image)\n",
        "\n",
        "        if self.transform:\n",
        "          augmented = self.transform(\n",
        "              image=image,\n",
        "              bboxes=[bbox],\n",
        "              # Only cat class used\n",
        "              class_labels=[0]\n",
        "          )\n",
        "          image = augmented['image']\n",
        "          bbox = augmented['bboxes'][0]\n",
        "        else:\n",
        "            image = T.ToTensor()(image)\n",
        "\n",
        "\n",
        "\n",
        "        target = torch.zeros((self.grid, self.grid, 6))\n",
        "        x, y, w, h = bbox\n",
        "        # Get the cell number of the grid where object exists\n",
        "        i = int(self.grid * x)\n",
        "        j = int(self.grid * y)\n",
        "\n",
        "        # Assign 1 to objectness score and class for the object cell.\n",
        "        target[j, i, 0] = 1       # This is objectness score\n",
        "        target[j, i, 1:5] = torch.tensor([x, y, w, h])\n",
        "        target[j, i, 5] = 1       # Only 1 class : Cat ... Dog is skipped\n",
        "\n",
        "\n",
        "\n",
        "        return image, target\n",
        "\n"
      ],
      "metadata": {
        "id": "QU7k30Y67yA8"
      },
      "execution_count": 9,
      "outputs": []
    },
    {
      "cell_type": "code",
      "source": [
        "import albumentations as A\n",
        "from albumentations.pytorch import ToTensorV2"
      ],
      "metadata": {
        "id": "0Cxq6TZ97036"
      },
      "execution_count": 10,
      "outputs": []
    },
    {
      "cell_type": "markdown",
      "source": [
        "# Transform to take both bounding box and image into consideration"
      ],
      "metadata": {
        "id": "jwMatANdKch-"
      }
    },
    {
      "cell_type": "code",
      "source": [
        "transform = A.Compose([\n",
        "    A.Resize(448, 448),\n",
        "\n",
        "    A.Normalize(mean=(0.5, 0.5, 0.5), std=(0.5, 0.5, 0.5)),\n",
        "    ToTensorV2()\n",
        "],\n",
        "bbox_params=A.BboxParams(format='yolo', label_fields=['class_labels']))"
      ],
      "metadata": {
        "id": "UdGWPcuEIMgN"
      },
      "execution_count": 11,
      "outputs": []
    },
    {
      "cell_type": "markdown",
      "source": [
        "# Divide into train and test"
      ],
      "metadata": {
        "id": "gKIS0zHmLKMb"
      }
    },
    {
      "cell_type": "code",
      "source": [
        "from torch.utils.data import random_split"
      ],
      "metadata": {
        "id": "_khQ48FbKs8K"
      },
      "execution_count": 12,
      "outputs": []
    },
    {
      "cell_type": "code",
      "source": [
        "dataset = CatDataset(csv_file=\"data.csv\", root_dir=img_path, transform=transform)\n",
        "train_size = int(0.8*len(dataset))\n",
        "test_size = len(dataset) - train_size\n",
        "train_dataset, test_dataset = random_split(dataset, [train_size, test_size])\n",
        "train_loader = DataLoader(train_dataset, batch_size=64, shuffle=True)\n",
        "test_loader = DataLoader(test_dataset, batch_size=64, shuffle=False)"
      ],
      "metadata": {
        "id": "of9taOx9LRgq"
      },
      "execution_count": 13,
      "outputs": []
    },
    {
      "cell_type": "markdown",
      "source": [
        "# Custom Conv model for detection"
      ],
      "metadata": {
        "id": "i35O8fmXMhDZ"
      }
    },
    {
      "cell_type": "code",
      "source": [
        "import torch\n",
        "import torch.nn as nn\n",
        "\n",
        "import torch\n",
        "import torch.nn as nn\n",
        "import torchvision.models as models\n",
        "from torchvision.models import ResNet34_Weights\n",
        "\n",
        "class YOLOResNet(nn.Module):\n",
        "    def __init__(self, S=7, C=1, B=1):\n",
        "\n",
        "        super().__init__()\n",
        "        self.S = S\n",
        "        self.C = C\n",
        "        self.B = B\n",
        "\n",
        "\n",
        "        output_channels = self.B * 5 + self.C  # 6 total\n",
        "\n",
        "\n",
        "        resnet = models.resnet34(weights=ResNet34_Weights.IMAGENET1K_V1)\n",
        "\n",
        "\n",
        "        self.features = nn.Sequential(*list(resnet.children())[:-2])\n",
        "\n",
        "\n",
        "        self.head = nn.Sequential(\n",
        "            nn.Conv2d(512, 512, kernel_size=3, padding=1),\n",
        "            nn.LeakyReLU(0.1),\n",
        "\n",
        "\n",
        "            nn.MaxPool2d(2, 2), # [B, 512, 14, 14] -> [B, 512, 7, 7]\n",
        "\n",
        "\n",
        "            nn.Conv2d(512, output_channels, kernel_size=1) # [B, 512, 7, 7] -> [B, 6, 7, 7]\n",
        "        )\n",
        "\n",
        "    def forward(self, x):\n",
        "        \"\"\"\n",
        "        Forward pass through the network.\n",
        "        Input shape: [Batch_size, 3, 448, 448]\n",
        "        \"\"\"\n",
        "        x = self.features(x)\n",
        "\n",
        "        x = self.head(x)\n",
        "\n",
        "        # Permute to get standard YOLO output shape [B, S, S, (B*5+C)]\n",
        "        x = x.permute(0, 2, 3, 1) # [B, 7, 7, 6]\n",
        "        # x = x.clone()  # avoid in-place ops if needed\n",
        "        x[..., 0] = torch.sigmoid(x[..., 0])  # objectness\n",
        "        x[..., 1:5] = torch.sigmoid(x[..., 1:5])  # bbox\n",
        "        x[..., 5] = torch.sigmoid(x[..., 5])  # class\n",
        "        return x\n",
        "\n",
        "device = \"cuda\" if torch.cuda.is_available() else \"cpu\"\n",
        "\n",
        "scratch = YOLOResNet(S=7, C=1, B=1).to(device)\n",
        "# for param in scratch.features.parameters():\n",
        "#     param.requires_grad = False\n",
        "\n"
      ],
      "metadata": {
        "id": "2QBWn_1ZLgej",
        "colab": {
          "base_uri": "https://localhost:8080/"
        },
        "outputId": "4315673c-a799-49ef-b750-e32a7fe8c30a"
      },
      "execution_count": 14,
      "outputs": [
        {
          "output_type": "stream",
          "name": "stderr",
          "text": [
            "Downloading: \"https://download.pytorch.org/models/resnet34-b627a593.pth\" to /root/.cache/torch/hub/checkpoints/resnet34-b627a593.pth\n",
            "100%|██████████| 83.3M/83.3M [00:00<00:00, 183MB/s]\n"
          ]
        }
      ]
    },
    {
      "cell_type": "code",
      "source": [
        "# 32,7,7,6\n",
        "def customloss(output,target, lambda_coord=5, lambda_noobj=0.5):\n",
        "    mse = nn.MSELoss(reduction='sum')\n",
        "\n",
        "    obj_mask = target[:, :, :, 0] == 1\n",
        "    noobj_mask = target[:, :, :, 0] == 0\n",
        "\n",
        "    loss_xy = mse(output[obj_mask][:, 1:3], target[obj_mask][:, 1:3])\n",
        "\n",
        "    pred_wh = torch.sqrt(torch.clamp(output[obj_mask][:, 3:5], min=1e-6))\n",
        "    true_wh = torch.sqrt(torch.clamp(target[obj_mask][:, 3:5], min=1e-6))\n",
        "    loss_wh = mse(pred_wh, true_wh)\n",
        "\n",
        "    loss_obj = mse(output[obj_mask][:, 0], target[obj_mask][:, 0])\n",
        "    loss_noobj = mse(output[noobj_mask][:, 0], target[noobj_mask][:, 0])\n",
        "\n",
        "    loss_cls = mse(output[obj_mask][:, 5], target[obj_mask][:, 5])\n",
        "\n",
        "    total_loss = (\n",
        "        lambda_coord * (loss_xy + loss_wh) +\n",
        "        loss_obj +\n",
        "        lambda_noobj * loss_noobj +\n",
        "        loss_cls\n",
        "    )\n",
        "\n",
        "    return total_loss"
      ],
      "metadata": {
        "id": "mDJBtfKGPSUj"
      },
      "execution_count": 15,
      "outputs": []
    },
    {
      "cell_type": "code",
      "source": [],
      "metadata": {
        "id": "ttt93MAqZBtW"
      },
      "execution_count": 15,
      "outputs": []
    },
    {
      "cell_type": "code",
      "source": [
        "device"
      ],
      "metadata": {
        "colab": {
          "base_uri": "https://localhost:8080/",
          "height": 36
        },
        "id": "FD9Ly7LoZM3N",
        "outputId": "3bb58ea2-7cfe-4c50-ff71-4e3477029e51"
      },
      "execution_count": 16,
      "outputs": [
        {
          "output_type": "execute_result",
          "data": {
            "text/plain": [
              "'cuda'"
            ],
            "application/vnd.google.colaboratory.intrinsic+json": {
              "type": "string"
            }
          },
          "metadata": {},
          "execution_count": 16
        }
      ]
    },
    {
      "cell_type": "code",
      "source": [
        "optimizer = torch.optim.Adam(scratch.parameters(), lr=0.001)\n",
        "def compute_iou(box1, box2):\n",
        "\n",
        "    box1_x1 = box1[..., 0] - box1[..., 2] / 2\n",
        "    box1_y1 = box1[..., 1] - box1[..., 3] / 2\n",
        "    box1_x2 = box1[..., 0] + box1[..., 2] / 2\n",
        "    box1_y2 = box1[..., 1] + box1[..., 3] / 2\n",
        "\n",
        "    box2_x1 = box2[..., 0] - box2[..., 2] / 2\n",
        "    box2_y1 = box2[..., 1] - box2[..., 3] / 2\n",
        "    box2_x2 = box2[..., 0] + box2[..., 2] / 2\n",
        "    box2_y2 = box2[..., 1] + box2[..., 3] / 2\n",
        "\n",
        "    inter_x1 = torch.max(box1_x1, box2_x1)\n",
        "    inter_y1 = torch.max(box1_y1, box2_y1)\n",
        "    inter_x2 = torch.min(box1_x2, box2_x2)\n",
        "    inter_y2 = torch.min(box1_y2, box2_y2)\n",
        "\n",
        "    inter_area = torch.clamp(inter_x2 - inter_x1, min=0) * torch.clamp(inter_y2 - inter_y1, min=0)\n",
        "\n",
        "    box1_area = (box1_x2 - box1_x1) * (box1_y2 - box1_y1)\n",
        "    box2_area = (box2_x2 - box2_x1) * (box2_y2 - box2_y1)\n",
        "\n",
        "    union_area = box1_area + box2_area - inter_area\n",
        "\n",
        "    iou = inter_area / (union_area + 1e-6)\n",
        "    return iou"
      ],
      "metadata": {
        "id": "h919qLDBZNYY"
      },
      "execution_count": 17,
      "outputs": []
    },
    {
      "cell_type": "code",
      "source": [
        "import torch\n",
        "from tqdm import tqdm\n",
        "\n",
        "def train(model, train_loader, test_loader, optimizer, loss_fn, device, epochs=2):\n",
        "    model.to(device)\n",
        "\n",
        "    train_loss_list = []\n",
        "    train_iou_list = []\n",
        "    test_loss_list = []\n",
        "    test_iou_list = []\n",
        "\n",
        "    for epoch in range(epochs):\n",
        "        model.train()\n",
        "        train_total_loss = 0\n",
        "        train_total_iou = 0\n",
        "        train_num_objects = 0\n",
        "\n",
        "        loop = tqdm(train_loader, leave=False)\n",
        "        for images, targets in loop:\n",
        "            images = images.to(device)\n",
        "            targets = targets.to(device)\n",
        "\n",
        "            outputs = model(images)\n",
        "            loss = loss_fn(outputs, targets)\n",
        "            train_total_loss += loss.item()\n",
        "\n",
        "            obj_mask = targets[..., 0] == 1\n",
        "            if obj_mask.sum() > 0:\n",
        "                pred_boxes = outputs[obj_mask][:, 1:5]\n",
        "                true_boxes = targets[obj_mask][:, 1:5]\n",
        "                ious = compute_iou(pred_boxes, true_boxes)\n",
        "                train_total_iou += ious.sum().item()\n",
        "                train_num_objects += ious.numel()\n",
        "\n",
        "            optimizer.zero_grad()\n",
        "            loss.backward()\n",
        "            optimizer.step()\n",
        "\n",
        "            loop.set_description(f\"Epoch [{epoch+1}/{epochs}]\")\n",
        "            loop.set_postfix(loss=loss.item())\n",
        "\n",
        "        avg_train_loss = train_total_loss / len(train_loader)\n",
        "        avg_train_iou = train_total_iou / train_num_objects if train_num_objects > 0 else 0\n",
        "\n",
        "        # Evaluation\n",
        "        model.eval()\n",
        "        test_total_loss = 0\n",
        "        test_total_iou = 0\n",
        "        test_num_objects = 0\n",
        "\n",
        "        with torch.inference_mode():\n",
        "            for images, targets in test_loader:\n",
        "                images = images.to(device)\n",
        "                targets = targets.to(device)\n",
        "\n",
        "                outputs = model(images)\n",
        "                loss = loss_fn(outputs, targets)\n",
        "                test_total_loss += loss.item()\n",
        "\n",
        "                obj_mask = targets[..., 0] == 1\n",
        "                if obj_mask.sum() > 0:\n",
        "                    pred_boxes = outputs[obj_mask][:, 1:5]\n",
        "                    true_boxes = targets[obj_mask][:, 1:5]\n",
        "                    ious = compute_iou(pred_boxes, true_boxes)\n",
        "                    test_total_iou += ious.sum().item()\n",
        "                    test_num_objects += ious.numel()\n",
        "\n",
        "        avg_test_loss = test_total_loss / len(test_loader)\n",
        "        avg_test_iou = test_total_iou / test_num_objects if test_num_objects > 0 else 0\n",
        "\n",
        "        train_loss_list.append(avg_train_loss)\n",
        "        train_iou_list.append(avg_train_iou)\n",
        "        test_loss_list.append(avg_test_loss)\n",
        "        test_iou_list.append(avg_test_iou)\n",
        "\n",
        "        print(f\"Epoch {epoch+1} | Train Loss: {avg_train_loss:.4f}, Train IoU: {avg_train_iou:.4f} | \"\n",
        "              f\"Test Loss: {avg_test_loss:.4f}, Test IoU: {avg_test_iou:.4f}\")\n",
        "\n",
        "    return train_loss_list, train_iou_list, test_loss_list, test_iou_list\n"
      ],
      "metadata": {
        "id": "HDQ8zB9BZ-HY"
      },
      "execution_count": 18,
      "outputs": []
    },
    {
      "cell_type": "code",
      "source": [
        "train_loss_list, train_iou_list, test_loss_list, test_iou_list = train(scratch, train_loader, test_loader, optimizer, customloss, device, epochs=25)"
      ],
      "metadata": {
        "colab": {
          "base_uri": "https://localhost:8080/"
        },
        "id": "U88nwrBVcJvc",
        "outputId": "0e4d82d6-a07e-40a3-d6b1-62e6b015cbe4"
      },
      "execution_count": 61,
      "outputs": [
        {
          "output_type": "stream",
          "name": "stderr",
          "text": []
        },
        {
          "output_type": "stream",
          "name": "stdout",
          "text": [
            "Epoch 1 | Train Loss: 67.0527, Train IoU: 0.6058 | Test Loss: 63.6746, Test IoU: 0.6139\n"
          ]
        },
        {
          "output_type": "stream",
          "name": "stderr",
          "text": []
        },
        {
          "output_type": "stream",
          "name": "stdout",
          "text": [
            "Epoch 2 | Train Loss: 65.8074, Train IoU: 0.6737 | Test Loss: 62.7802, Test IoU: 0.6365\n"
          ]
        },
        {
          "output_type": "stream",
          "name": "stderr",
          "text": []
        },
        {
          "output_type": "stream",
          "name": "stdout",
          "text": [
            "Epoch 3 | Train Loss: 64.8373, Train IoU: 0.7305 | Test Loss: 62.3690, Test IoU: 0.6287\n"
          ]
        },
        {
          "output_type": "stream",
          "name": "stderr",
          "text": []
        },
        {
          "output_type": "stream",
          "name": "stdout",
          "text": [
            "Epoch 4 | Train Loss: 64.3725, Train IoU: 0.7590 | Test Loss: 62.0008, Test IoU: 0.6737\n"
          ]
        },
        {
          "output_type": "stream",
          "name": "stderr",
          "text": []
        },
        {
          "output_type": "stream",
          "name": "stdout",
          "text": [
            "Epoch 5 | Train Loss: 64.1238, Train IoU: 0.7886 | Test Loss: 61.7353, Test IoU: 0.6997\n"
          ]
        },
        {
          "output_type": "stream",
          "name": "stderr",
          "text": []
        },
        {
          "output_type": "stream",
          "name": "stdout",
          "text": [
            "Epoch 6 | Train Loss: 64.0820, Train IoU: 0.7990 | Test Loss: 61.9695, Test IoU: 0.6890\n"
          ]
        },
        {
          "output_type": "stream",
          "name": "stderr",
          "text": []
        },
        {
          "output_type": "stream",
          "name": "stdout",
          "text": [
            "Epoch 7 | Train Loss: 63.9528, Train IoU: 0.8161 | Test Loss: 61.7086, Test IoU: 0.6974\n"
          ]
        },
        {
          "output_type": "stream",
          "name": "stderr",
          "text": []
        },
        {
          "output_type": "stream",
          "name": "stdout",
          "text": [
            "Epoch 8 | Train Loss: 63.7993, Train IoU: 0.8377 | Test Loss: 61.6547, Test IoU: 0.7061\n"
          ]
        },
        {
          "output_type": "stream",
          "name": "stderr",
          "text": []
        },
        {
          "output_type": "stream",
          "name": "stdout",
          "text": [
            "Epoch 9 | Train Loss: 63.6823, Train IoU: 0.8586 | Test Loss: 61.6400, Test IoU: 0.7077\n"
          ]
        },
        {
          "output_type": "stream",
          "name": "stderr",
          "text": []
        },
        {
          "output_type": "stream",
          "name": "stdout",
          "text": [
            "Epoch 10 | Train Loss: 63.6028, Train IoU: 0.8742 | Test Loss: 61.4726, Test IoU: 0.7114\n"
          ]
        },
        {
          "output_type": "stream",
          "name": "stderr",
          "text": []
        },
        {
          "output_type": "stream",
          "name": "stdout",
          "text": [
            "Epoch 11 | Train Loss: 63.5201, Train IoU: 0.8940 | Test Loss: 61.4960, Test IoU: 0.7145\n"
          ]
        },
        {
          "output_type": "stream",
          "name": "stderr",
          "text": []
        },
        {
          "output_type": "stream",
          "name": "stdout",
          "text": [
            "Epoch 12 | Train Loss: 63.4781, Train IoU: 0.9050 | Test Loss: 61.4923, Test IoU: 0.7176\n"
          ]
        },
        {
          "output_type": "stream",
          "name": "stderr",
          "text": []
        },
        {
          "output_type": "stream",
          "name": "stdout",
          "text": [
            "Epoch 13 | Train Loss: 63.5085, Train IoU: 0.8924 | Test Loss: 61.5837, Test IoU: 0.7103\n"
          ]
        },
        {
          "output_type": "stream",
          "name": "stderr",
          "text": []
        },
        {
          "output_type": "stream",
          "name": "stdout",
          "text": [
            "Epoch 14 | Train Loss: 63.5396, Train IoU: 0.8895 | Test Loss: 61.4178, Test IoU: 0.7192\n"
          ]
        },
        {
          "output_type": "stream",
          "name": "stderr",
          "text": []
        },
        {
          "output_type": "stream",
          "name": "stdout",
          "text": [
            "Epoch 15 | Train Loss: 63.4811, Train IoU: 0.9046 | Test Loss: 61.4732, Test IoU: 0.7154\n"
          ]
        },
        {
          "output_type": "stream",
          "name": "stderr",
          "text": []
        },
        {
          "output_type": "stream",
          "name": "stdout",
          "text": [
            "Epoch 16 | Train Loss: 63.4811, Train IoU: 0.9045 | Test Loss: 61.4227, Test IoU: 0.7218\n"
          ]
        },
        {
          "output_type": "stream",
          "name": "stderr",
          "text": []
        },
        {
          "output_type": "stream",
          "name": "stdout",
          "text": [
            "Epoch 17 | Train Loss: 63.4728, Train IoU: 0.9047 | Test Loss: 61.3903, Test IoU: 0.7168\n"
          ]
        },
        {
          "output_type": "stream",
          "name": "stderr",
          "text": []
        },
        {
          "output_type": "stream",
          "name": "stdout",
          "text": [
            "Epoch 18 | Train Loss: 63.4878, Train IoU: 0.8957 | Test Loss: 61.5875, Test IoU: 0.7191\n"
          ]
        },
        {
          "output_type": "stream",
          "name": "stderr",
          "text": []
        },
        {
          "output_type": "stream",
          "name": "stdout",
          "text": [
            "Epoch 19 | Train Loss: 63.4878, Train IoU: 0.8968 | Test Loss: 61.4530, Test IoU: 0.7229\n"
          ]
        },
        {
          "output_type": "stream",
          "name": "stderr",
          "text": []
        },
        {
          "output_type": "stream",
          "name": "stdout",
          "text": [
            "Epoch 20 | Train Loss: 63.4476, Train IoU: 0.9103 | Test Loss: 61.4207, Test IoU: 0.7248\n"
          ]
        },
        {
          "output_type": "stream",
          "name": "stderr",
          "text": []
        },
        {
          "output_type": "stream",
          "name": "stdout",
          "text": [
            "Epoch 21 | Train Loss: 63.4350, Train IoU: 0.9155 | Test Loss: 61.4464, Test IoU: 0.7196\n"
          ]
        },
        {
          "output_type": "stream",
          "name": "stderr",
          "text": []
        },
        {
          "output_type": "stream",
          "name": "stdout",
          "text": [
            "Epoch 22 | Train Loss: 63.4514, Train IoU: 0.9134 | Test Loss: 61.3983, Test IoU: 0.7236\n"
          ]
        },
        {
          "output_type": "stream",
          "name": "stderr",
          "text": []
        },
        {
          "output_type": "stream",
          "name": "stdout",
          "text": [
            "Epoch 23 | Train Loss: 63.4379, Train IoU: 0.9191 | Test Loss: 61.5141, Test IoU: 0.7172\n"
          ]
        },
        {
          "output_type": "stream",
          "name": "stderr",
          "text": []
        },
        {
          "output_type": "stream",
          "name": "stdout",
          "text": [
            "Epoch 24 | Train Loss: 63.4541, Train IoU: 0.9143 | Test Loss: 61.4474, Test IoU: 0.7183\n"
          ]
        },
        {
          "output_type": "stream",
          "name": "stderr",
          "text": []
        },
        {
          "output_type": "stream",
          "name": "stdout",
          "text": [
            "Epoch 25 | Train Loss: 63.4332, Train IoU: 0.9073 | Test Loss: 61.4435, Test IoU: 0.7193\n"
          ]
        }
      ]
    },
    {
      "cell_type": "code",
      "source": [],
      "metadata": {
        "id": "MFR7G0K7y404"
      },
      "execution_count": 67,
      "outputs": []
    },
    {
      "cell_type": "code",
      "source": [
        "def plot_gt_and_top_pred(X, y_true, y_pred, grid_size=7):\n",
        "    import matplotlib.pyplot as plt\n",
        "    import torchvision.transforms as T\n",
        "    import matplotlib.patches as patches\n",
        "\n",
        "    # Unnormalize the image (ImageNet stats)\n",
        "    unnormalize = T.Normalize(mean=[-0.485 / 0.229, -0.456 / 0.224, -0.406 / 0.225],\n",
        "                              std=[1 / 0.229, 1 / 0.224, 1 / 0.225])\n",
        "    X = unnormalize(X)\n",
        "    X = torch.clamp(X, 0, 1)\n",
        "\n",
        "    img = X.permute(1, 2, 0).cpu().numpy()\n",
        "\n",
        "    fig, ax = plt.subplots(1)\n",
        "    ax.imshow(img)\n",
        "\n",
        "    # Draw ground truth boxes (green)\n",
        "    for i in range(grid_size):\n",
        "        for j in range(grid_size):\n",
        "            if y_true[j, i, 0] > 0:\n",
        "                x, y_center, w, h = y_true[j, i, 1:5]\n",
        "                abs_x = (i + x) / grid_size\n",
        "                abs_y = (j + y_center) / grid_size\n",
        "                abs_w = w\n",
        "                abs_h = h\n",
        "\n",
        "                x0 = (abs_x - abs_w / 2) * 448\n",
        "                y0 = (abs_y - abs_h / 2) * 448\n",
        "                width = abs_w * 448\n",
        "                height = abs_h * 448\n",
        "\n",
        "                rect = patches.Rectangle((x0, y0), width, height,\n",
        "                                         linewidth=2, edgecolor='lime', facecolor='none', label='Ground Truth')\n",
        "                ax.add_patch(rect)\n",
        "\n",
        "    # Get predicted box with highest objectness\n",
        "    objectness = y_pred[..., 0]\n",
        "    max_val, max_idx = torch.max(objectness.view(-1), dim=0)\n",
        "    if max_val > 0:\n",
        "        flat_idx = max_idx.item()\n",
        "        j = flat_idx // grid_size  # row\n",
        "        i = flat_idx % grid_size   # col\n",
        "\n",
        "        x, y_center, w, h = y_pred[j, i, 1:5]\n",
        "        abs_x = (i + x) / grid_size\n",
        "        abs_y = (j + y_center) / grid_size\n",
        "        abs_w = w\n",
        "        abs_h = h\n",
        "\n",
        "        x0 = (abs_x - abs_w / 2) * 448\n",
        "        y0 = (abs_y - abs_h / 2) * 448\n",
        "        width = abs_w * 448\n",
        "        height = abs_h * 448\n",
        "\n",
        "        rect = patches.Rectangle((x0, y0), width, height,\n",
        "                                 linewidth=2, edgecolor='red', facecolor='none', label='Top Prediction')\n",
        "        ax.add_patch(rect)\n",
        "\n",
        "    # Add legend\n",
        "    handles, labels = ax.get_legend_handles_labels()\n",
        "    by_label = dict(zip(labels, handles))\n",
        "    ax.legend(by_label.values(), by_label.keys(), loc=\"upper right\")\n",
        "\n",
        "    plt.axis('off')\n",
        "    plt.show()\n"
      ],
      "metadata": {
        "id": "woHfeeRRzEdq"
      },
      "execution_count": 52,
      "outputs": []
    },
    {
      "cell_type": "code",
      "source": [
        "def plot_losses(train_losses, test_losses):\n",
        "    epochs = range(1, len(train_losses) + 1)\n",
        "\n",
        "    plt.figure(figsize=(8, 5))\n",
        "    plt.plot(epochs, train_losses, label='Train Loss', marker='o')\n",
        "    plt.plot(epochs, test_losses, label='Test Loss', marker='x')\n",
        "\n",
        "    plt.title('Training vs Test Loss')\n",
        "    plt.xlabel('Epoch')\n",
        "    plt.ylabel('Loss')\n",
        "    plt.legend()\n",
        "    plt.grid(True)\n",
        "    plt.tight_layout()\n",
        "    plt.show()"
      ],
      "metadata": {
        "id": "DF7DmftictzV"
      },
      "execution_count": null,
      "outputs": []
    },
    {
      "cell_type": "code",
      "source": [],
      "metadata": {
        "id": "XfoQB9Hdd_Jt"
      },
      "execution_count": null,
      "outputs": []
    },
    {
      "cell_type": "code",
      "source": [
        "torch.save(scratch.state_dict(), \"scratch_weightsv2.pth\")"
      ],
      "metadata": {
        "id": "6mVqMHh2gTKB"
      },
      "execution_count": 68,
      "outputs": []
    },
    {
      "cell_type": "code",
      "source": [
        "model = YOLOResNet(S=7, C=1, B=1).to(device)"
      ],
      "metadata": {
        "id": "jcp-vY8njUKX"
      },
      "execution_count": 21,
      "outputs": []
    },
    {
      "cell_type": "code",
      "source": [
        "model.load_state_dict(torch.load(\"scratch_weightsv2.pth\", map_location=device))"
      ],
      "metadata": {
        "colab": {
          "base_uri": "https://localhost:8080/"
        },
        "id": "hTLDDzNJNJu8",
        "outputId": "961a978d-b15f-4d7f-b919-c3a6c97085e2"
      },
      "execution_count": 26,
      "outputs": [
        {
          "output_type": "execute_result",
          "data": {
            "text/plain": [
              "<All keys matched successfully>"
            ]
          },
          "metadata": {},
          "execution_count": 26
        }
      ]
    },
    {
      "cell_type": "code",
      "source": [
        "for X_batch, y_batch in train_loader:\n",
        "    X_hold = X_batch[0].to(device)           # [3, 448, 448]\n",
        "    y_hold = y_batch[0]                      # [7, 7, 6]\n",
        "\n",
        "    with torch.no_grad():\n",
        "        y_pred = model(X_hold.unsqueeze(0))  # Add batch dim → [1, 3, 448, 448]\n",
        "\n",
        "    y_hold_pred = y_pred[0].cpu()            # Remove batch dim, move to CPU\n",
        "\n",
        "    plot_gt_and_top_pred(X_hold.cpu(), y_hold, y_hold_pred, grid_size=7)\n",
        "    break"
      ],
      "metadata": {
        "colab": {
          "base_uri": "https://localhost:8080/",
          "height": 406
        },
        "id": "q7OsjjyFNfTG",
        "outputId": "7a9712ec-4367-4616-f17e-d0f2fcfcc15a"
      },
      "execution_count": 59,
      "outputs": [
        {
          "output_type": "display_data",
          "data": {
            "text/plain": [
              "<Figure size 640x480 with 1 Axes>"
            ],
            "image/png": "[encoded data removed]"
          },
          "metadata": {}
        }
      ]
    },
    {
      "cell_type": "code",
      "source": [],
      "metadata": {
        "id": "-7I2lYSlOBnE"
      },
      "execution_count": 59,
      "outputs": []
    },
    {
      "cell_type": "code",
      "source": [],
      "metadata": {
        "id": "hB2-nz4ePOip"
      },
      "execution_count": null,
      "outputs": []
    }
  ]
}